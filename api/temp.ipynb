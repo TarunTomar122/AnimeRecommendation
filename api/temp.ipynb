{
 "cells": [
  {
   "cell_type": "code",
   "execution_count": 1,
   "metadata": {},
   "outputs": [],
   "source": [
    "import pandas as pd\n",
    "import matplotlib.pyplot as plt\n",
    "import json\n",
    "import random\n",
    "import itertools\n",
    "from utils import *"
   ]
  },
  {
   "cell_type": "code",
   "execution_count": 2,
   "metadata": {},
   "outputs": [
    {
     "output_type": "stream",
     "name": "stdout",
     "text": "Model Loaded\n"
    }
   ],
   "source": [
    "colnames=['userId', 'animeId', 'rating'] \n",
    "df = pd.read_csv(\"main.txt\",delimiter=' ', names=colnames, header=None)\n",
    "\n",
    "interactions = create_interaction_matrix(df, 'userId', 'animeId', 'rating')\n",
    "\n",
    "user_dict = create_user_dict(interactions=interactions)\n",
    "movies_dict = json.load(open('anime_id_to_name.json'))\n",
    "reversed_movies_dict = json.load(open('anime_name_to_id.json'))\n",
    "\n",
    "mf_model = runMF(interactions = interactions,\n",
    "                n_components = 30,\n",
    "                loss = 'warp',\n",
    "                epoch = 30,\n",
    "                n_jobs = 4)  \n",
    "\n",
    "item_item_dist = create_item_emdedding_distance_matrix(model = mf_model,interactions = interactions)\n",
    "print(\"Model Loaded\")"
   ]
  },
  {
   "cell_type": "code",
   "execution_count": 6,
   "metadata": {},
   "outputs": [],
   "source": [
    "main = {}\n",
    "\n",
    "for key in movies_dict.keys():\n",
    "    try:\n",
    "        rec_list = item_item_recommendation(item_emdedding_distance_matrix = item_item_dist,\n",
    "                                                item_id = int(key),\n",
    "                                                item_dict = movies_dict,\n",
    "                                                n_items = 10)\n",
    "        main[movies_dict[key]] = rec_list\n",
    "    except:\n",
    "        pass                                         "
   ]
  },
  {
   "cell_type": "code",
   "execution_count": 12,
   "metadata": {},
   "outputs": [],
   "source": [
    "with open('recommendations.json', 'a') as file:\n",
    "    json.dump(main, file)"
   ]
  },
  {
   "cell_type": "code",
   "execution_count": null,
   "metadata": {},
   "outputs": [],
   "source": []
  }
 ],
 "metadata": {
  "language_info": {
   "codemirror_mode": {
    "name": "ipython",
    "version": 3
   },
   "file_extension": ".py",
   "mimetype": "text/x-python",
   "name": "python",
   "nbconvert_exporter": "python",
   "pygments_lexer": "ipython3",
   "version": "3.6.9-final"
  },
  "orig_nbformat": 2,
  "kernelspec": {
   "name": "python3",
   "display_name": "Python 3"
  }
 },
 "nbformat": 4,
 "nbformat_minor": 2
}